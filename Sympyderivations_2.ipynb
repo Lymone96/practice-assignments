{
 "cells": [
  {
   "cell_type": "markdown",
   "metadata": {},
   "source": [
    "First Example (from lecture): Cantilever beam under uniform load"
   ]
  },
  {
   "cell_type": "code",
   "execution_count": 116,
   "metadata": {},
   "outputs": [],
   "source": [
    "import sympy as sym"
   ]
  },
  {
   "cell_type": "code",
   "execution_count": 117,
   "metadata": {},
   "outputs": [],
   "source": [
    "EI, q, x, l = sym.symbols('EI q x l')\n",
    "C_1, C_2, C_3, C_4 = sym.symbols('C_1 C_2 C_3 C_4') "
   ]
  },
  {
   "cell_type": "code",
   "execution_count": 118,
   "metadata": {},
   "outputs": [
    {
     "data": {
      "text/latex": [
       "$\\displaystyle C_{1} x + C_{2} - \\frac{q x^{2}}{2}$"
      ],
      "text/plain": [
       "C_1*x + C_2 - q*x**2/2"
      ]
     },
     "metadata": {},
     "output_type": "display_data"
    }
   ],
   "source": [
    "V = -sym.integrate(q, x) + C_1\n",
    "M = sym.integrate(V, x) + C_2 \n",
    "kappa = M/EI \n",
    "phi = sym.integrate(kappa,x) + C_3\n",
    "w = -sym.integrate(phi,x) + C_4\n",
    "display(M)"
   ]
  },
  {
   "cell_type": "code",
   "execution_count": 119,
   "metadata": {},
   "outputs": [
    {
     "data": {
      "text/latex": [
       "$\\displaystyle C_{1} l + C_{2} - \\frac{l^{2} q}{2} = 0$"
      ],
      "text/plain": [
       "Eq(C_1*l + C_2 - l**2*q/2, 0)"
      ]
     },
     "metadata": {},
     "output_type": "display_data"
    }
   ],
   "source": [
    "eq1 = sym.Eq(w.subs(x,0), 0)\n",
    "eq2 = sym.Eq(phi.subs(x,0), 0)\n",
    "eq3 = sym.Eq(w.subs(x,l), 1)\n",
    "eq4 = sym.Eq(M.subs(x,l), 0)\n",
    "display(eq4)"
   ]
  },
  {
   "cell_type": "code",
   "execution_count": 120,
   "metadata": {},
   "outputs": [
    {
     "data": {
      "text/latex": [
       "$\\displaystyle C_{1} = \\frac{24 EI + 5 l^{4} q}{8 l^{3}}$"
      ],
      "text/plain": [
       "Eq(C_1, (24*EI + 5*l**4*q)/(8*l**3))"
      ]
     },
     "metadata": {},
     "output_type": "display_data"
    },
    {
     "data": {
      "text/latex": [
       "$\\displaystyle C_{2} = \\frac{- 24 EI - l^{4} q}{8 l^{2}}$"
      ],
      "text/plain": [
       "Eq(C_2, (-24*EI - l**4*q)/(8*l**2))"
      ]
     },
     "metadata": {},
     "output_type": "display_data"
    },
    {
     "data": {
      "text/latex": [
       "$\\displaystyle C_{3} = 0$"
      ],
      "text/plain": [
       "Eq(C_3, 0)"
      ]
     },
     "metadata": {},
     "output_type": "display_data"
    },
    {
     "data": {
      "text/latex": [
       "$\\displaystyle C_{4} = 0$"
      ],
      "text/plain": [
       "Eq(C_4, 0)"
      ]
     },
     "metadata": {},
     "output_type": "display_data"
    }
   ],
   "source": [
    "C_sol = sym.solve([eq1, eq2, eq3, eq4], ( C_1, C_2, C_3, C_4))\n",
    "for key in C_sol:\n",
    "    display(sym.Eq(key, C_sol[key]))"
   ]
  },
  {
   "cell_type": "code",
   "execution_count": 122,
   "metadata": {},
   "outputs": [
    {
     "name": "stdout",
     "output_type": "stream",
     "text": [
      "w =0.312500000000000\n",
      "V =3.00000000000000\n",
      "M =0\n"
     ]
    }
   ],
   "source": [
    "w_substituted_step1 = w.subs(C_sol)\n",
    "w_substituted_step2 = w_substituted_step1.subs({EI: 1, q: 0, l: 1, x: 0.5})\n",
    "evaluated_w = sym.N(w_substituted_step2)\n",
    "# print(w)\n",
    "print(f\"w ={evaluated_w}\")\n",
    "# print(w_substituted_step1)\n",
    "\n",
    "a = 1\n",
    "\n",
    "V_substituted_step1 = V.subs(C_sol)\n",
    "V_substituted_step2 = V_substituted_step1.subs({EI: 1, q: 0, l: 1, x: a})\n",
    "evaluated_V = sym.N(V_substituted_step2)\n",
    "M_substituted_step1 = M.subs(C_sol)\n",
    "M_substituted_step2 = M_substituted_step1.subs({EI: 1, q: 0, l: 1, x: a})\n",
    "evaluated_M = sym.N(M_substituted_step2)\n",
    "print(f\"V ={evaluated_V}\")\n",
    "print(f\"M ={evaluated_M}\")\n",
    "\n",
    "\n"
   ]
  }
 ],
 "metadata": {
  "kernelspec": {
   "display_name": "matrix-method-lemon",
   "language": "python",
   "name": "python3"
  },
  "language_info": {
   "codemirror_mode": {
    "name": "ipython",
    "version": 3
   },
   "file_extension": ".py",
   "mimetype": "text/x-python",
   "name": "python",
   "nbconvert_exporter": "python",
   "pygments_lexer": "ipython3",
   "version": "3.13.2"
  }
 },
 "nbformat": 4,
 "nbformat_minor": 2
}
