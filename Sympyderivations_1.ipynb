{
 "cells": [
  {
   "cell_type": "markdown",
   "metadata": {},
   "source": [
    "First Example (from lecture): Cantilever beam under uniform load"
   ]
  },
  {
   "cell_type": "code",
   "execution_count": 2,
   "metadata": {},
   "outputs": [],
   "source": [
    "import sympy as sym"
   ]
  },
  {
   "cell_type": "code",
   "execution_count": 3,
   "metadata": {},
   "outputs": [],
   "source": [
    "EI, q, x, l = sym.symbols('EI q x l')\n",
    "C_1, C_2, C_3, C_4 = sym.symbols('C_1 C_2 C_3 C_4') "
   ]
  },
  {
   "cell_type": "code",
   "execution_count": 4,
   "metadata": {},
   "outputs": [
    {
     "data": {
      "text/latex": [
       "$\\displaystyle C_{1} x + C_{2} - \\frac{q x^{2}}{2}$"
      ],
      "text/plain": [
       "C_1*x + C_2 - q*x**2/2"
      ]
     },
     "metadata": {},
     "output_type": "display_data"
    }
   ],
   "source": [
    "V = -sym.integrate(q, x) + C_1\n",
    "M = sym.integrate(V, x) + C_2 \n",
    "kappa = M/EI \n",
    "phi = sym.integrate(kappa,x) + C_3\n",
    "w = -sym.integrate(phi,x) + C_4\n",
    "display(M)"
   ]
  },
  {
   "cell_type": "code",
   "execution_count": 5,
   "metadata": {},
   "outputs": [
    {
     "data": {
      "text/latex": [
       "$\\displaystyle C_{1} l + C_{2} - \\frac{l^{2} q}{2} = 0$"
      ],
      "text/plain": [
       "Eq(C_1*l + C_2 - l**2*q/2, 0)"
      ]
     },
     "metadata": {},
     "output_type": "display_data"
    }
   ],
   "source": [
    "eq1 = sym.Eq(w.subs(x,0), 0)\n",
    "eq2 = sym.Eq(phi.subs(x,0), 0)\n",
    "eq3 = sym.Eq(V.subs(x,l), 0)\n",
    "eq4 = sym.Eq(M.subs(x,l), 0)\n",
    "display(eq4)"
   ]
  },
  {
   "cell_type": "code",
   "execution_count": 6,
   "metadata": {},
   "outputs": [
    {
     "data": {
      "text/latex": [
       "$\\displaystyle C_{1} = l q$"
      ],
      "text/plain": [
       "Eq(C_1, l*q)"
      ]
     },
     "metadata": {},
     "output_type": "display_data"
    },
    {
     "data": {
      "text/latex": [
       "$\\displaystyle C_{2} = - \\frac{l^{2} q}{2}$"
      ],
      "text/plain": [
       "Eq(C_2, -l**2*q/2)"
      ]
     },
     "metadata": {},
     "output_type": "display_data"
    },
    {
     "data": {
      "text/latex": [
       "$\\displaystyle C_{3} = 0$"
      ],
      "text/plain": [
       "Eq(C_3, 0)"
      ]
     },
     "metadata": {},
     "output_type": "display_data"
    },
    {
     "data": {
      "text/latex": [
       "$\\displaystyle C_{4} = 0$"
      ],
      "text/plain": [
       "Eq(C_4, 0)"
      ]
     },
     "metadata": {},
     "output_type": "display_data"
    }
   ],
   "source": [
    "C_sol = sym.solve([eq1, eq2, eq3, eq4], ( C_1, C_2, C_3, C_4))\n",
    "for key in C_sol:\n",
    "    display(sym.Eq(key, C_sol[key]))"
   ]
  },
  {
   "cell_type": "markdown",
   "metadata": {},
   "source": [
    "Second Example (from lecture): derive stiffness matrix"
   ]
  },
  {
   "cell_type": "code",
   "execution_count": 7,
   "metadata": {},
   "outputs": [],
   "source": [
    "EI, q, x, l = sym.symbols('EI q x l')\n",
    "C_1, C_2, C_3, C_4 = sym.symbols('C_1 C_2 C_3 C_4') "
   ]
  },
  {
   "cell_type": "code",
   "execution_count": 8,
   "metadata": {},
   "outputs": [],
   "source": [
    "V = -sym.integrate(q, x) + C_1\n",
    "M = sym.integrate(V, x) + C_2 \n",
    "kappa = M/EI \n",
    "phi = sym.integrate(kappa,x) + C_3\n",
    "w = -sym.integrate(phi,x) + C_4"
   ]
  },
  {
   "cell_type": "code",
   "execution_count": 9,
   "metadata": {},
   "outputs": [],
   "source": [
    "w_1, w_2, phi_1, phi_2 = sym.symbols('w_1, w_2, phi_1, phi_2')"
   ]
  },
  {
   "cell_type": "code",
   "execution_count": 10,
   "metadata": {},
   "outputs": [],
   "source": [
    "eq1 = sym.Eq(w.subs(x,0), w_1)\n",
    "eq2 = sym.Eq(phi.subs(x,0), phi_1)\n",
    "eq3 = sym.Eq(w.subs(x,l), w_2)\n",
    "eq4 = sym.Eq(phi.subs(x,l), phi_2)\n",
    "# display(eq3)"
   ]
  },
  {
   "cell_type": "code",
   "execution_count": 11,
   "metadata": {},
   "outputs": [
    {
     "data": {
      "text/latex": [
       "$\\displaystyle C_{1} = \\frac{12 EI l \\phi_{1} + 12 EI l \\phi_{2} - 24 EI w_{1} + 24 EI w_{2} + l^{4} q}{2 l^{3}}$"
      ],
      "text/plain": [
       "Eq(C_1, (12*EI*l*phi_1 + 12*EI*l*phi_2 - 24*EI*w_1 + 24*EI*w_2 + l**4*q)/(2*l**3))"
      ]
     },
     "metadata": {},
     "output_type": "display_data"
    },
    {
     "data": {
      "text/latex": [
       "$\\displaystyle C_{2} = \\frac{- 48 EI l \\phi_{1} - 24 EI l \\phi_{2} + 72 EI w_{1} - 72 EI w_{2} - l^{4} q}{12 l^{2}}$"
      ],
      "text/plain": [
       "Eq(C_2, (-48*EI*l*phi_1 - 24*EI*l*phi_2 + 72*EI*w_1 - 72*EI*w_2 - l**4*q)/(12*l**2))"
      ]
     },
     "metadata": {},
     "output_type": "display_data"
    },
    {
     "data": {
      "text/latex": [
       "$\\displaystyle C_{3} = \\phi_{1}$"
      ],
      "text/plain": [
       "Eq(C_3, phi_1)"
      ]
     },
     "metadata": {},
     "output_type": "display_data"
    },
    {
     "data": {
      "text/latex": [
       "$\\displaystyle C_{4} = w_{1}$"
      ],
      "text/plain": [
       "Eq(C_4, w_1)"
      ]
     },
     "metadata": {},
     "output_type": "display_data"
    }
   ],
   "source": [
    "C_sol = sym.solve([eq1, eq2, eq3, eq4], ( C_1, C_2, C_3, C_4))\n",
    "for key in C_sol:\n",
    "    display(sym.Eq(key, C_sol[key]))"
   ]
  },
  {
   "cell_type": "code",
   "execution_count": 12,
   "metadata": {},
   "outputs": [],
   "source": [
    "F_1_z, F_2_z, T_1_y, T_2_y = sym.symbols('F_1_z, F_2_z, T_1_y, T_2_y')"
   ]
  },
  {
   "cell_type": "code",
   "execution_count": 13,
   "metadata": {},
   "outputs": [],
   "source": [
    "eq5 = sym.Eq(-V.subs(C_sol).subs(x,0), F_1_z)\n",
    "eq6 = sym.Eq(V.subs(C_sol).subs(x,l), F_2_z)\n",
    "eq7 = sym.Eq(-M.subs(C_sol).subs(x,0), T_1_y)\n",
    "eq8 = sym.Eq(M.subs(C_sol).subs(x,l), T_2_y)"
   ]
  },
  {
   "cell_type": "code",
   "execution_count": 14,
   "metadata": {},
   "outputs": [
    {
     "data": {
      "text/latex": [
       "$\\displaystyle \\left[\\begin{matrix}\\frac{12 EI}{l^{3}} & - \\frac{6 EI}{l^{2}} & - \\frac{12 EI}{l^{3}} & - \\frac{6 EI}{l^{2}}\\\\- \\frac{12 EI}{l^{3}} & \\frac{6 EI}{l^{2}} & \\frac{12 EI}{l^{3}} & \\frac{6 EI}{l^{2}}\\\\- \\frac{6 EI}{l^{2}} & \\frac{4 EI}{l} & \\frac{6 EI}{l^{2}} & \\frac{2 EI}{l}\\\\- \\frac{6 EI}{l^{2}} & \\frac{2 EI}{l} & \\frac{6 EI}{l^{2}} & \\frac{4 EI}{l}\\end{matrix}\\right]$"
      ],
      "text/plain": [
       "Matrix([\n",
       "[ 12*EI/l**3, -6*EI/l**2, -12*EI/l**3, -6*EI/l**2],\n",
       "[-12*EI/l**3,  6*EI/l**2,  12*EI/l**3,  6*EI/l**2],\n",
       "[ -6*EI/l**2,     4*EI/l,   6*EI/l**2,     2*EI/l],\n",
       "[ -6*EI/l**2,     2*EI/l,   6*EI/l**2,     4*EI/l]])"
      ]
     },
     "metadata": {},
     "output_type": "display_data"
    }
   ],
   "source": [
    "K_e, f_e = sym.linear_eq_to_matrix([eq5,eq6,eq7,eq8], [w_1, phi_1, w_2, phi_2])\n",
    "display(K_e)"
   ]
  },
  {
   "cell_type": "code",
   "execution_count": null,
   "metadata": {},
   "outputs": [
    {
     "data": {
      "text/latex": [
       "$\\displaystyle - \\phi_{1} x + w_{1} + \\frac{q x^{4}}{24 EI} - \\frac{x^{2} \\left(- 48 EI l \\phi_{1} - 24 EI l \\phi_{2} + 72 EI w_{1} - 72 EI w_{2} - l^{4} q\\right)}{24 EI l^{2}} - \\frac{x^{3} \\left(12 EI l \\phi_{1} + 12 EI l \\phi_{2} - 24 EI w_{1} + 24 EI w_{2} + l^{4} q\\right)}{12 EI l^{3}}$"
      ],
      "text/plain": [
       "-phi_1*x + w_1 + q*x**4/(24*EI) - x**2*(-48*EI*l*phi_1 - 24*EI*l*phi_2 + 72*EI*w_1 - 72*EI*w_2 - l**4*q)/(24*EI*l**2) - x**3*(12*EI*l*phi_1 + 12*EI*l*phi_2 - 24*EI*w_1 + 24*EI*w_2 + l**4*q)/(12*EI*l**3)"
      ]
     },
     "metadata": {},
     "output_type": "display_data"
    }
   ],
   "source": [
    "w_substituted = w.subs(C_sol)\n",
    "\n",
    "# Collection does not work as intended\n",
    "w_collected = sym.collect(w_substituted, q)\n",
    "display(w_collected)"
   ]
  }
 ],
 "metadata": {
  "kernelspec": {
   "display_name": "matrix-method-lemon",
   "language": "python",
   "name": "python3"
  },
  "language_info": {
   "codemirror_mode": {
    "name": "ipython",
    "version": 3
   },
   "file_extension": ".py",
   "mimetype": "text/x-python",
   "name": "python",
   "nbconvert_exporter": "python",
   "pygments_lexer": "ipython3",
   "version": "3.13.2"
  }
 },
 "nbformat": 4,
 "nbformat_minor": 2
}
